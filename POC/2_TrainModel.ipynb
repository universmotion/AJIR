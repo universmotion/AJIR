{
 "cells": [
  {
   "cell_type": "markdown",
   "metadata": {},
   "source": [
    "# Train model notebook\n",
    "\n",
    "Source: \n",
    "\n",
    "- https://joeddav.github.io/blog/2020/05/29/ZSL.html\n",
    "- https://huggingface.co/docs/setfit/how_to/zero_shot\n",
    "- : Generic model \n",
    "\n",
    "Dataset:\n",
    "\n",
    "- https://huggingface.co/docs/datasets/create_dataset"
   ]
  },
  {
   "cell_type": "code",
   "execution_count": 1,
   "metadata": {},
   "outputs": [],
   "source": [
    "import pandas as pd\n",
    "import re\n",
    "import pandas as pd\n",
    "import numpy as np\n",
    "import re\n",
    "\n",
    "ACRONYM = [\"YTA\", \"YWBTA\", \"NTA\", \"YWNBTA\", \"ESH\", \"NAH\", \"INFO\"]\n",
    "\n",
    "\n",
    "def processing(doc):\n",
    "    doc = doc.lower()\n",
    "    doc = re.sub(r'http\\S+|www\\S+|https\\S+', '', doc, flags=re.MULTILINE)\n",
    "    # Suppression des mentions d'utilisateurs (par exemple, u/username)\n",
    "    doc = re.sub(r'u/\\S+', 'this people', doc)\n",
    "    # Suppression des caractères spéciaux et de la ponctuation\n",
    "    doc = re.sub(r'\\W', ' ', doc)\n",
    "    doc = re.sub(r'  ', ' ', doc)\n",
    "    return doc\n",
    "\n",
    "\n",
    "data = pd.read_pickle(f\"./data/raw/post_0/comments.pkl\")\n",
    "data[\"label\"] = data.label_user.astype(\"category\").cat.codes\n",
    "data = data[data['label'] != -1]\n",
    "\n",
    "ACRONYM = [\"YTA\", \"YWBTA\", \"NTA\", \"YWNBTA\", \"ESH\", \"NAH\", \"INFO\"]\n",
    "\n",
    "data[\"text\"] = data.body.map(lambda x: re.sub(\"|\".join(ACRONYM), \"\", x))\n",
    "\n",
    "## Data enginerring\n",
    "data = data[~data.body.isna()]"
   ]
  },
  {
   "cell_type": "code",
   "execution_count": 2,
   "metadata": {},
   "outputs": [],
   "source": [
    "test_data = data.sample(int(0.3*data.shape[0]))\n",
    "train_data = data[~data.index.isin(test_data.index)]"
   ]
  },
  {
   "cell_type": "code",
   "execution_count": 3,
   "metadata": {},
   "outputs": [
    {
     "name": "stderr",
     "output_type": "stream",
     "text": [
      "/home/romain/anaconda3/envs/projet/lib/python3.11/site-packages/sentence_transformers/cross_encoder/CrossEncoder.py:11: TqdmWarning: IProgress not found. Please update jupyter and ipywidgets. See https://ipywidgets.readthedocs.io/en/stable/user_install.html\n",
      "  from tqdm.autonotebook import tqdm, trange\n",
      "/home/romain/anaconda3/envs/projet/lib/python3.11/site-packages/huggingface_hub/file_download.py:1132: FutureWarning: `resume_download` is deprecated and will be removed in version 1.0.0. Downloads always resume when possible. If you want to force a new download, use `force_download=True`.\n",
      "  warnings.warn(\n",
      "model_head.pkl not found on HuggingFace Hub, initialising classification head with random weights. You should TRAIN this model on a downstream task to use it for predictions and inference.\n",
      "/tmp/ipykernel_5006/759670283.py:16: DeprecationWarning: `SetFitTrainer` has been deprecated and will be removed in v2.0.0 of SetFit. Please use `Trainer` instead.\n",
      "  trainer = SetFitTrainer(\n",
      "Map: 100%|██████████| 77/77 [00:00<00:00, 11684.57 examples/s]\n"
     ]
    }
   ],
   "source": [
    "# source: https://huggingface.co/blog/setfit\n",
    "\n",
    "from sentence_transformers.losses import CosineSimilarityLoss\n",
    "from setfit import SetFitModel, SetFitTrainer\n",
    "from datasets import Dataset\n",
    "\n",
    "\n",
    "MODEL =\"sentence-transformers/paraphrase-albert-small-v2\" \n",
    "# \"sentence-transformers/paraphrase-multilingual-MiniLM-L12-v2\"\n",
    "\n",
    "test_ds = Dataset.from_dict({\"text\": test_data[\"text\"].map(processing), \"label\": test_data[\"label\"]}, split=\"test\")\n",
    "train_ds = Dataset.from_dict({\"text\": train_data[\"text\"].map(processing), \"label\": train_data[\"label\"]}, split=\"train\")\n",
    "\n",
    "model = SetFitModel.from_pretrained(MODEL)\n",
    "\n",
    "trainer = SetFitTrainer(\n",
    "    model=model,\n",
    "    train_dataset=train_ds,\n",
    "    eval_dataset=test_ds,\n",
    "    loss_class=CosineSimilarityLoss,\n",
    "    batch_size=16,\n",
    "    num_iterations=20, # Number of text pairs to generate for contrastive learning\n",
    "    num_epochs=1 # Number of epochs to use for contrastive learning\n",
    ")"
   ]
  },
  {
   "cell_type": "code",
   "execution_count": 6,
   "metadata": {},
   "outputs": [
    {
     "name": "stderr",
     "output_type": "stream",
     "text": [
      "***** Running training *****\n",
      "  Num unique pairs = 3080\n",
      "  Batch size = 16\n",
      "  Num epochs = 1\n",
      "  Total optimization steps = 193\n",
      "  0%|          | 0/193 [00:00<?, ?it/s]\n",
      "\n",
      "\u001b[A                                    "
     ]
    },
    {
     "name": "stdout",
     "output_type": "stream",
     "text": [
      "{'embedding_loss': 0.0037, 'learning_rate': 1.0000000000000002e-06, 'epoch': 0.01}\n"
     ]
    },
    {
     "name": "stderr",
     "output_type": "stream",
     "text": [
      "\n",
      "\u001b[A                                             "
     ]
    },
    {
     "name": "stdout",
     "output_type": "stream",
     "text": [
      "{'embedding_loss': 0.0011, 'learning_rate': 1.6531791907514452e-05, 'epoch': 0.26}\n"
     ]
    },
    {
     "name": "stderr",
     "output_type": "stream",
     "text": [
      "\n",
      "\u001b[A                                              "
     ]
    },
    {
     "name": "stdout",
     "output_type": "stream",
     "text": [
      "{'embedding_loss': 0.0009, 'learning_rate': 1.0751445086705203e-05, 'epoch': 0.52}\n"
     ]
    },
    {
     "name": "stderr",
     "output_type": "stream",
     "text": [
      "\n",
      "\u001b[A                                              "
     ]
    },
    {
     "name": "stdout",
     "output_type": "stream",
     "text": [
      "{'embedding_loss': 0.0005, 'learning_rate': 4.971098265895954e-06, 'epoch': 0.78}\n"
     ]
    },
    {
     "name": "stderr",
     "output_type": "stream",
     "text": [
      "\n",
      "100%|██████████| 193/193 [00:30<00:00,  6.25it/s]\n"
     ]
    },
    {
     "name": "stdout",
     "output_type": "stream",
     "text": [
      "{'train_runtime': 30.8978, 'train_samples_per_second': 99.942, 'train_steps_per_second': 6.246, 'epoch': 1.0}\n"
     ]
    }
   ],
   "source": [
    "trainer.train()"
   ]
  },
  {
   "cell_type": "code",
   "execution_count": 7,
   "metadata": {},
   "outputs": [
    {
     "name": "stderr",
     "output_type": "stream",
     "text": [
      "***** Running evaluation *****\n"
     ]
    },
    {
     "data": {
      "text/plain": [
       "{'accuracy': 0.42424242424242425}"
      ]
     },
     "execution_count": 7,
     "metadata": {},
     "output_type": "execute_result"
    }
   ],
   "source": [
    "trainer.evaluate()"
   ]
  },
  {
   "cell_type": "markdown",
   "metadata": {},
   "source": [
    "## Analysis of result"
   ]
  },
  {
   "cell_type": "code",
   "execution_count": 27,
   "metadata": {},
   "outputs": [
    {
     "name": "stderr",
     "output_type": "stream",
     "text": [
      "model_head.pkl not found on HuggingFace Hub, initialising classification head with random weights. You should TRAIN this model on a downstream task to use it for predictions and inference.\n"
     ]
    }
   ],
   "source": [
    "model = trainer.model\n",
    "model_old = SetFitModel.from_pretrained(MODEL)"
   ]
  },
  {
   "cell_type": "code",
   "execution_count": 32,
   "metadata": {},
   "outputs": [],
   "source": [
    "embeddings_after_train = model.encode(test_data.body.to_list())\n",
    "embeddings_before_train = model_old.encode(test_data.body.to_list())"
   ]
  },
  {
   "cell_type": "code",
   "execution_count": 34,
   "metadata": {},
   "outputs": [
    {
     "data": {
      "text/plain": [
       "<Axes: >"
      ]
     },
     "execution_count": 34,
     "metadata": {},
     "output_type": "execute_result"
    },
    {
     "data": {
      "image/png": "[encoded data removed]",
      "text/plain": [
       "<Figure size 2000x1000 with 3 Axes>"
      ]
     },
     "metadata": {},
     "output_type": "display_data"
    }
   ],
   "source": [
    "from sklearn.mixture import GaussianMixture\n",
    "from sklearn.decomposition import PCA\n",
    "import seaborn as sns\n",
    "import matplotlib.pyplot as plt\n",
    "\n",
    "def get_feature_and_prediction(embeddings):\n",
    "    features = PCA(n_components=2).fit_transform(embeddings)\n",
    "    pred = GaussianMixture(tol=0.001, n_components=2).fit_predict(features)\n",
    "    return features, pred\n",
    "\n",
    "\n",
    "\n",
    "plt.figure(figsize=(20, 10))\n",
    "plt.subplot(1, 3, 1)\n",
    "feature_train, pred_train = get_feature_and_prediction(embeddings_after_train)\n",
    "sns.scatterplot(x=feature_train[:, 0], y=feature_train[:, 1], hue=pred_train)\n",
    "\n",
    "plt.subplot(1, 3, 2)\n",
    "feature_base, pred_base = get_feature_and_prediction(embeddings_before_train)\n",
    "sns.scatterplot(x=feature_base[:, 0], y=feature_base[:, 1], hue = pred_base)\n",
    "\n",
    "\n",
    "plt.subplot(1, 3, 3)\n",
    "sns.scatterplot(x=feature_train[:, 0], y=feature_train[:, 1], hue = test_data.label_user)"
   ]
  },
  {
   "cell_type": "code",
   "execution_count": null,
   "metadata": {},
   "outputs": [
    {
     "name": "stderr",
     "output_type": "stream",
     "text": [
      "/home/romain/miniconda3/envs/projet/lib/python3.11/site-packages/huggingface_hub/file_download.py:1132: FutureWarning: `resume_download` is deprecated and will be removed in version 1.0.0. Downloads always resume when possible. If you want to force a new download, use `force_download=True`.\n",
      "  warnings.warn(\n"
     ]
    }
   ],
   "source": [
    "\n",
    "# source: https://huggingface.co/docs/setfit/how_to/zero_shot\n",
    "\n",
    "# train_dataset = Dataset.from_dict({\"text\": data[\"body\"], \"label\": data[\"label\"]}, split=\"test\").with_format(\"torch\")\n",
    "# dataloader = DataLoader(train_dataset, batch_size=4)\n",
    "# train_dataloader = DataLoader(dataloader, shuffle=True, batch_size=16)\n"
   ]
  }
 ],
 "metadata": {
  "kernelspec": {
   "display_name": "projet",
   "language": "python",
   "name": "python3"
  },
  "language_info": {
   "codemirror_mode": {
    "name": "ipython",
    "version": 3
   },
   "file_extension": ".py",
   "mimetype": "text/x-python",
   "name": "python",
   "nbconvert_exporter": "python",
   "pygments_lexer": "ipython3",
   "version": "3.11.9"
  }
 },
 "nbformat": 4,
 "nbformat_minor": 2
}
